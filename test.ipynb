{
 "cells": [
  {
   "cell_type": "code",
   "execution_count": 3,
   "metadata": {},
   "outputs": [],
   "source": [
    "import numpy as np\n",
    "import os"
   ]
  },
  {
   "cell_type": "code",
   "execution_count": 2,
   "metadata": {},
   "outputs": [],
   "source": [
    "base_pcd_dir = \"./\"\n",
    "base_img_dir = \"./data/epipolar_1/\""
   ]
  },
  {
   "cell_type": "code",
   "execution_count": 8,
   "metadata": {},
   "outputs": [
    {
     "name": "stdout",
     "output_type": "stream",
     "text": [
      "9093404916.npy\n",
      "./data/epipolar_1/9093404916.png\n",
      "9393404920.npy\n",
      "./data/epipolar_1/9393404920.png\n",
      "9543404922.npy\n",
      "./data/epipolar_1/9543404922.png\n",
      "9293404919.npy\n",
      "./data/epipolar_1/9293404919.png\n",
      "8693404910.npy\n",
      "./data/epipolar_1/8693404910.png\n",
      "9343404919.npy\n",
      "./data/epipolar_1/9343404919.png\n",
      "9643404924.npy\n",
      "./data/epipolar_1/9643404924.png\n",
      "9693404925.npy\n",
      "./data/epipolar_1/9693404925.png\n",
      "8993404914.npy\n",
      "./data/epipolar_1/8993404914.png\n",
      "8843404912.npy\n",
      "./data/epipolar_1/8843404912.png\n",
      "9743404925.npy\n",
      "./data/epipolar_1/9743404925.png\n",
      "9143404916.npy\n",
      "./data/epipolar_1/9143404916.png\n",
      "9593404923.npy\n",
      "./data/epipolar_1/9593404923.png\n",
      "8643404909.npy\n",
      "./data/epipolar_1/8643404909.png\n",
      "9243404918.npy\n",
      "./data/epipolar_1/9243404918.png\n",
      "9443404921.npy\n",
      "./data/epipolar_1/9443404921.png\n",
      "8743404910.npy\n",
      "./data/epipolar_1/8743404910.png\n",
      "8943404913.npy\n",
      "./data/epipolar_1/8943404913.png\n",
      "8893404913.npy\n",
      "./data/epipolar_1/8893404913.png\n",
      "9493404922.npy\n",
      "./data/epipolar_1/9493404922.png\n",
      "8793404911.npy\n",
      "./data/epipolar_1/8793404911.png\n",
      "9043404915.npy\n",
      "./data/epipolar_1/9043404915.png\n",
      "9193404917.npy\n",
      "./data/epipolar_1/9193404917.png\n"
     ]
    }
   ],
   "source": [
    "for pcd_filename in os.listdir(base_pcd_dir):\n",
    "    if pcd_filename.endswith(\".npy\"):\n",
    "        print(pcd_filename)\n",
    "        filename = pcd_filename.split(\".npy\")[0]\n",
    "        image_filename = os.path.join(base_img_dir, f'{filename}.png')\n",
    "        if os.path.exists(image_filename):\n",
    "            print(image_filename)"
   ]
  },
  {
   "cell_type": "code",
   "execution_count": 1,
   "metadata": {},
   "outputs": [],
   "source": [
    "import numpy as np"
   ]
  },
  {
   "cell_type": "code",
   "execution_count": 2,
   "metadata": {},
   "outputs": [],
   "source": [
    "corres = np.load(\"/media/akshay/Data/16822/data/superpoint_old_1/1_2_matches.npz\")"
   ]
  },
  {
   "cell_type": "code",
   "execution_count": 4,
   "metadata": {},
   "outputs": [
    {
     "ename": "AttributeError",
     "evalue": "'NpzFile' object has no attribute 'shape'",
     "output_type": "error",
     "traceback": [
      "\u001b[0;31m---------------------------------------------------------------------------\u001b[0m",
      "\u001b[0;31mAttributeError\u001b[0m                            Traceback (most recent call last)",
      "\u001b[0;32m<ipython-input-4-f351e84e89cf>\u001b[0m in \u001b[0;36m<module>\u001b[0;34m\u001b[0m\n\u001b[0;32m----> 1\u001b[0;31m \u001b[0mcorres\u001b[0m\u001b[0;34m.\u001b[0m\u001b[0mshape\u001b[0m\u001b[0;34m\u001b[0m\u001b[0;34m\u001b[0m\u001b[0m\n\u001b[0m",
      "\u001b[0;31mAttributeError\u001b[0m: 'NpzFile' object has no attribute 'shape'"
     ]
    }
   ],
   "source": [
    "corres.shape"
   ]
  },
  {
   "cell_type": "code",
   "execution_count": 6,
   "metadata": {},
   "outputs": [
    {
     "name": "stdout",
     "output_type": "stream",
     "text": [
      "keypoints0\n",
      "keypoints1\n",
      "matches\n",
      "match_confidence\n"
     ]
    }
   ],
   "source": [
    "for k in corres:\n",
    "    print(k)"
   ]
  },
  {
   "cell_type": "code",
   "execution_count": 22,
   "metadata": {},
   "outputs": [
    {
     "data": {
      "text/plain": [
       "(846,)"
      ]
     },
     "execution_count": 22,
     "metadata": {},
     "output_type": "execute_result"
    }
   ],
   "source": [
    "corres['match_confidence'].shape"
   ]
  },
  {
   "cell_type": "code",
   "execution_count": 10,
   "metadata": {},
   "outputs": [
    {
     "data": {
      "text/plain": [
       "(846, 2)"
      ]
     },
     "execution_count": 10,
     "metadata": {},
     "output_type": "execute_result"
    }
   ],
   "source": [
    "corres['keypoints0'].shape"
   ]
  },
  {
   "cell_type": "code",
   "execution_count": 11,
   "metadata": {},
   "outputs": [
    {
     "data": {
      "text/plain": [
       "(875, 2)"
      ]
     },
     "execution_count": 11,
     "metadata": {},
     "output_type": "execute_result"
    }
   ],
   "source": [
    "corres['keypoints1'].shape"
   ]
  },
  {
   "cell_type": "code",
   "execution_count": 21,
   "metadata": {},
   "outputs": [
    {
     "data": {
      "text/plain": [
       "-1"
      ]
     },
     "execution_count": 21,
     "metadata": {},
     "output_type": "execute_result"
    }
   ],
   "source": [
    "corres['matches'].min(0)"
   ]
  },
  {
   "cell_type": "code",
   "execution_count": 14,
   "metadata": {},
   "outputs": [
    {
     "data": {
      "text/plain": [
       "array([791., 591.], dtype=float32)"
      ]
     },
     "execution_count": 14,
     "metadata": {},
     "output_type": "execute_result"
    }
   ],
   "source": [
    "corres['keypoints1'].max(axis=0)"
   ]
  },
  {
   "cell_type": "code",
   "execution_count": null,
   "metadata": {},
   "outputs": [],
   "source": []
  }
 ],
 "metadata": {
  "kernelspec": {
   "display_name": "Python 3.8.10 64-bit",
   "language": "python",
   "name": "python3"
  },
  "language_info": {
   "codemirror_mode": {
    "name": "ipython",
    "version": 3
   },
   "file_extension": ".py",
   "mimetype": "text/x-python",
   "name": "python",
   "nbconvert_exporter": "python",
   "pygments_lexer": "ipython3",
   "version": "3.8.10"
  },
  "orig_nbformat": 4,
  "vscode": {
   "interpreter": {
    "hash": "31f2aee4e71d21fbe5cf8b01ff0e069b9275f58929596ceb00d14d90e3e16cd6"
   }
  }
 },
 "nbformat": 4,
 "nbformat_minor": 2
}
