{
 "cells": [
  {
   "cell_type": "code",
   "execution_count": 3,
   "metadata": {},
   "outputs": [],
   "source": [
    "import numpy as np\n",
    "import os"
   ]
  },
  {
   "cell_type": "code",
   "execution_count": 2,
   "metadata": {},
   "outputs": [],
   "source": [
    "base_pcd_dir = \"./\"\n",
    "base_img_dir = \"./data/epipolar_1/\""
   ]
  },
  {
   "cell_type": "code",
   "execution_count": 8,
   "metadata": {},
   "outputs": [
    {
     "name": "stdout",
     "output_type": "stream",
     "text": [
      "9093404916.npy\n",
      "./data/epipolar_1/9093404916.png\n",
      "9393404920.npy\n",
      "./data/epipolar_1/9393404920.png\n",
      "9543404922.npy\n",
      "./data/epipolar_1/9543404922.png\n",
      "9293404919.npy\n",
      "./data/epipolar_1/9293404919.png\n",
      "8693404910.npy\n",
      "./data/epipolar_1/8693404910.png\n",
      "9343404919.npy\n",
      "./data/epipolar_1/9343404919.png\n",
      "9643404924.npy\n",
      "./data/epipolar_1/9643404924.png\n",
      "9693404925.npy\n",
      "./data/epipolar_1/9693404925.png\n",
      "8993404914.npy\n",
      "./data/epipolar_1/8993404914.png\n",
      "8843404912.npy\n",
      "./data/epipolar_1/8843404912.png\n",
      "9743404925.npy\n",
      "./data/epipolar_1/9743404925.png\n",
      "9143404916.npy\n",
      "./data/epipolar_1/9143404916.png\n",
      "9593404923.npy\n",
      "./data/epipolar_1/9593404923.png\n",
      "8643404909.npy\n",
      "./data/epipolar_1/8643404909.png\n",
      "9243404918.npy\n",
      "./data/epipolar_1/9243404918.png\n",
      "9443404921.npy\n",
      "./data/epipolar_1/9443404921.png\n",
      "8743404910.npy\n",
      "./data/epipolar_1/8743404910.png\n",
      "8943404913.npy\n",
      "./data/epipolar_1/8943404913.png\n",
      "8893404913.npy\n",
      "./data/epipolar_1/8893404913.png\n",
      "9493404922.npy\n",
      "./data/epipolar_1/9493404922.png\n",
      "8793404911.npy\n",
      "./data/epipolar_1/8793404911.png\n",
      "9043404915.npy\n",
      "./data/epipolar_1/9043404915.png\n",
      "9193404917.npy\n",
      "./data/epipolar_1/9193404917.png\n"
     ]
    }
   ],
   "source": [
    "for pcd_filename in os.listdir(base_pcd_dir):\n",
    "    if pcd_filename.endswith(\".npy\"):\n",
    "        print(pcd_filename)\n",
    "        filename = pcd_filename.split(\".npy\")[0]\n",
    "        image_filename = os.path.join(base_img_dir, f'{filename}.png')\n",
    "        if os.path.exists(image_filename):\n",
    "            print(image_filename)"
   ]
  },
  {
   "cell_type": "code",
   "execution_count": null,
   "metadata": {},
   "outputs": [],
   "source": []
  }
 ],
 "metadata": {
  "kernelspec": {
   "display_name": "Python 3.8.10 64-bit",
   "language": "python",
   "name": "python3"
  },
  "language_info": {
   "codemirror_mode": {
    "name": "ipython",
    "version": 3
   },
   "file_extension": ".py",
   "mimetype": "text/x-python",
   "name": "python",
   "nbconvert_exporter": "python",
   "pygments_lexer": "ipython3",
   "version": "3.8.10"
  },
  "orig_nbformat": 4,
  "vscode": {
   "interpreter": {
    "hash": "31f2aee4e71d21fbe5cf8b01ff0e069b9275f58929596ceb00d14d90e3e16cd6"
   }
  }
 },
 "nbformat": 4,
 "nbformat_minor": 2
}
